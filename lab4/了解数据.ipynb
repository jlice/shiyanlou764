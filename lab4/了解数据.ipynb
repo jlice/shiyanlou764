{
 "cells": [
  {
   "cell_type": "code",
   "execution_count": 1,
   "metadata": {},
   "outputs": [],
   "source": [
    "import pandas as pd\n",
    "import xlrd\n",
    "import MySQLdb\n",
    "from matplotlib import pyplot as plt\n",
    "\n",
    "%matplotlib inline"
   ]
  },
  {
   "cell_type": "code",
   "execution_count": null,
   "metadata": {},
   "outputs": [],
   "source": [
    "# 读取csv/txt\n",
    "for line in open('test_file.csv'):\n",
    "    print(line)"
   ]
  },
  {
   "cell_type": "code",
   "execution_count": null,
   "metadata": {},
   "outputs": [],
   "source": [
    "# 读取Excel\n",
    "file = xlrd.open_workbook('test_file.xlsx')\n",
    "sheet = file.sheet_by_index(0)\n",
    "\n",
    "for i in range(sheet.nrows):\n",
    "    print(sheet.row_values(i))"
   ]
  },
  {
   "cell_type": "code",
   "execution_count": null,
   "metadata": {},
   "outputs": [],
   "source": [
    "# 使用pandas读取csv，得到DataFrame\n",
    "df = pd.read_csv('test_file.csv')\n",
    "df"
   ]
  },
  {
   "cell_type": "code",
   "execution_count": null,
   "metadata": {},
   "outputs": [],
   "source": [
    "# 通过pd.read_table将csv/txt读取为DataFrame\n",
    "# head=0 将第0行设为表头\n",
    "df = pd.read_table('test_file.txt', header=0, sep='\\t')\n",
    "df"
   ]
  },
  {
   "cell_type": "code",
   "execution_count": 2,
   "metadata": {},
   "outputs": [
    {
     "name": "stdout",
     "output_type": "stream",
     "text": [
      "(1, 'Tom', 110110110)\n",
      "(2, 'Jack', 119119119)\n",
      "(3, 'Rose', 112222119)\n"
     ]
    }
   ],
   "source": [
    "# 读取MySQL里的数据\n",
    "# 安装MySQL-python会出现ImportError: No module named 'ConfigParser'\n",
    "# 可以 pip install mysqlclient\n",
    "db = MySQLdb.connect(host='localhost', \n",
    "                     user='root', \n",
    "                     passwd='', \n",
    "                     db='shiyanlou')\n",
    "cur = db.cursor()\n",
    "\n",
    "cur.execute('SELECT * FROM person')\n",
    "\n",
    "for row in cur.fetchall():\n",
    "    print(row)\n",
    "    \n",
    "db.close()"
   ]
  },
  {
   "cell_type": "code",
   "execution_count": null,
   "metadata": {},
   "outputs": [],
   "source": [
    "# 可以通过df.head(n)、df.tail(n)来获取DataFrame的头部、尾部n行\n",
    "# n默认为5\n",
    "df = pd.read_csv('test_file.csv')\n",
    "# 浏览数据的头部\n",
    "df.head()"
   ]
  },
  {
   "cell_type": "code",
   "execution_count": null,
   "metadata": {},
   "outputs": [],
   "source": [
    "df = pd.read_csv('test_file.csv')\n",
    "# 浏览数据的尾部\n",
    "df.tail()"
   ]
  },
  {
   "cell_type": "code",
   "execution_count": null,
   "metadata": {},
   "outputs": [],
   "source": [
    "df = pd.read_csv('test_file.csv')\n",
    "df.head(10)"
   ]
  },
  {
   "cell_type": "code",
   "execution_count": 3,
   "metadata": {},
   "outputs": [
    {
     "data": {
      "text/html": [
       "<div>\n",
       "<style>\n",
       "    .dataframe thead tr:only-child th {\n",
       "        text-align: right;\n",
       "    }\n",
       "\n",
       "    .dataframe thead th {\n",
       "        text-align: left;\n",
       "    }\n",
       "\n",
       "    .dataframe tbody tr th {\n",
       "        vertical-align: top;\n",
       "    }\n",
       "</style>\n",
       "<table border=\"1\" class=\"dataframe\">\n",
       "  <thead>\n",
       "    <tr style=\"text-align: right;\">\n",
       "      <th></th>\n",
       "      <th>Zip Code</th>\n",
       "      <th>Total Population</th>\n",
       "      <th>Median Age</th>\n",
       "      <th>Total Males</th>\n",
       "      <th>Total Females</th>\n",
       "      <th>Total Households</th>\n",
       "      <th>Average Household Size</th>\n",
       "    </tr>\n",
       "  </thead>\n",
       "  <tbody>\n",
       "    <tr>\n",
       "      <th>count</th>\n",
       "      <td>319.000000</td>\n",
       "      <td>319.000000</td>\n",
       "      <td>319.000000</td>\n",
       "      <td>319.000000</td>\n",
       "      <td>319.000000</td>\n",
       "      <td>319.000000</td>\n",
       "      <td>319.000000</td>\n",
       "    </tr>\n",
       "    <tr>\n",
       "      <th>mean</th>\n",
       "      <td>91000.673981</td>\n",
       "      <td>33241.341693</td>\n",
       "      <td>36.527586</td>\n",
       "      <td>16391.564263</td>\n",
       "      <td>16849.777429</td>\n",
       "      <td>10964.570533</td>\n",
       "      <td>2.828119</td>\n",
       "    </tr>\n",
       "    <tr>\n",
       "      <th>std</th>\n",
       "      <td>908.360203</td>\n",
       "      <td>21644.417455</td>\n",
       "      <td>8.692999</td>\n",
       "      <td>10747.495566</td>\n",
       "      <td>10934.986468</td>\n",
       "      <td>6270.646400</td>\n",
       "      <td>0.835658</td>\n",
       "    </tr>\n",
       "    <tr>\n",
       "      <th>min</th>\n",
       "      <td>90001.000000</td>\n",
       "      <td>0.000000</td>\n",
       "      <td>0.000000</td>\n",
       "      <td>0.000000</td>\n",
       "      <td>0.000000</td>\n",
       "      <td>0.000000</td>\n",
       "      <td>0.000000</td>\n",
       "    </tr>\n",
       "    <tr>\n",
       "      <th>25%</th>\n",
       "      <td>90243.500000</td>\n",
       "      <td>19318.500000</td>\n",
       "      <td>32.400000</td>\n",
       "      <td>9763.500000</td>\n",
       "      <td>9633.500000</td>\n",
       "      <td>6765.500000</td>\n",
       "      <td>2.435000</td>\n",
       "    </tr>\n",
       "    <tr>\n",
       "      <th>50%</th>\n",
       "      <td>90807.000000</td>\n",
       "      <td>31481.000000</td>\n",
       "      <td>37.100000</td>\n",
       "      <td>15283.000000</td>\n",
       "      <td>16202.000000</td>\n",
       "      <td>10968.000000</td>\n",
       "      <td>2.830000</td>\n",
       "    </tr>\n",
       "    <tr>\n",
       "      <th>75%</th>\n",
       "      <td>91417.000000</td>\n",
       "      <td>44978.000000</td>\n",
       "      <td>41.000000</td>\n",
       "      <td>22219.500000</td>\n",
       "      <td>22690.500000</td>\n",
       "      <td>14889.500000</td>\n",
       "      <td>3.320000</td>\n",
       "    </tr>\n",
       "    <tr>\n",
       "      <th>max</th>\n",
       "      <td>93591.000000</td>\n",
       "      <td>105549.000000</td>\n",
       "      <td>74.000000</td>\n",
       "      <td>52794.000000</td>\n",
       "      <td>53185.000000</td>\n",
       "      <td>31087.000000</td>\n",
       "      <td>4.670000</td>\n",
       "    </tr>\n",
       "  </tbody>\n",
       "</table>\n",
       "</div>"
      ],
      "text/plain": [
       "           Zip Code  Total Population  Median Age   Total Males  \\\n",
       "count    319.000000        319.000000  319.000000    319.000000   \n",
       "mean   91000.673981      33241.341693   36.527586  16391.564263   \n",
       "std      908.360203      21644.417455    8.692999  10747.495566   \n",
       "min    90001.000000          0.000000    0.000000      0.000000   \n",
       "25%    90243.500000      19318.500000   32.400000   9763.500000   \n",
       "50%    90807.000000      31481.000000   37.100000  15283.000000   \n",
       "75%    91417.000000      44978.000000   41.000000  22219.500000   \n",
       "max    93591.000000     105549.000000   74.000000  52794.000000   \n",
       "\n",
       "       Total Females  Total Households  Average Household Size  \n",
       "count     319.000000        319.000000              319.000000  \n",
       "mean    16849.777429      10964.570533                2.828119  \n",
       "std     10934.986468       6270.646400                0.835658  \n",
       "min         0.000000          0.000000                0.000000  \n",
       "25%      9633.500000       6765.500000                2.435000  \n",
       "50%     16202.000000      10968.000000                2.830000  \n",
       "75%     22690.500000      14889.500000                3.320000  \n",
       "max     53185.000000      31087.000000                4.670000  "
      ]
     },
     "execution_count": 3,
     "metadata": {},
     "output_type": "execute_result"
    }
   ],
   "source": [
    "# describe()方法可以对数据集中的数值进行统计\n",
    "# 会输出数据计数、最大值、最小值等\n",
    "df = pd.read_csv('test_file.csv')\n",
    "df.describe()"
   ]
  },
  {
   "cell_type": "code",
   "execution_count": null,
   "metadata": {},
   "outputs": [],
   "source": [
    "# count()方法可以计算数据集中非空数据的数量\n",
    "df = pd.read_csv('test_file.csv')\n",
    "df.count()"
   ]
  },
  {
   "cell_type": "code",
   "execution_count": null,
   "metadata": {},
   "outputs": [],
   "source": [
    "# pandas可以使用isnull()和notnull()来检测缺失值\n",
    "df = pd.read_csv('test_file_nan.csv')\n",
    "df.head(10).isnull()"
   ]
  },
  {
   "cell_type": "code",
   "execution_count": null,
   "metadata": {},
   "outputs": [],
   "source": [
    "# 删除缺失值\n",
    "# dropna()可以移除缺失值，也可以使用axis参数指定某个轴上的缺失值\n",
    "df = pd.read_csv('test_file_nan.csv')\n",
    "df.dropna()"
   ]
  },
  {
   "cell_type": "code",
   "execution_count": null,
   "metadata": {},
   "outputs": [],
   "source": [
    "# 使用fillna填充缺失值\n",
    "# 指定method为pad时，用前面的临近值进行填充\n",
    "df = pd.read_csv('test_file_nan.csv')\n",
    "df.head(10).fillna(method='pad')"
   ]
  },
  {
   "cell_type": "code",
   "execution_count": null,
   "metadata": {},
   "outputs": [],
   "source": [
    "# 当指定method为bfill时，使用后面的临近值进行填充\n",
    "df = pd.read_csv('test_file_nan.csv')\n",
    "df.head(10).fillna(method='bfill')\n",
    "\n",
    "# 除了临近填充，有时还会用mean()进行平均值填充"
   ]
  },
  {
   "cell_type": "code",
   "execution_count": null,
   "metadata": {},
   "outputs": [],
   "source": [
    "# 可以使用interpolate()进行插值填充\n",
    "# 默认为线性插值，即method='linear\n",
    "df = pd.read_csv('test_file_nan.csv')\n",
    "df.interpolate().head(10)\n",
    "# 还有其它一些插值方法，如：\n",
    "# quadratic 二次插值\n",
    "# pchip 累计分布\n",
    "# akima  平滑插值"
   ]
  },
  {
   "cell_type": "code",
   "execution_count": null,
   "metadata": {},
   "outputs": [],
   "source": [
    "# 通过get_dummies()可以将以分类形式存在的变量转换为独热编码\n",
    "df = pd.read_csv('one_hot_demo.csv', header=0)\n",
    "one_hot = pd.get_dummies(df[['status', 'color']])\n",
    "one_hot.head(10)"
   ]
  },
  {
   "cell_type": "code",
   "execution_count": null,
   "metadata": {},
   "outputs": [],
   "source": [
    "# 使用duplicated可以标识重复数据\n",
    "df = pd.read_csv('one_hot_demo.csv', header=0)\n",
    "pd.DataFrame.duplicated(df).head(10)"
   ]
  },
  {
   "cell_type": "code",
   "execution_count": null,
   "metadata": {},
   "outputs": [],
   "source": [
    "# 使用drop_duplicates()可以返回一个去重后的数据集\n",
    "df = pd.read_csv('one_hot_demo.csv', header=0)\n",
    "pd.DataFrame.drop_duplicates(df)"
   ]
  },
  {
   "cell_type": "markdown",
   "metadata": {},
   "source": [
    "### 箱形图\n",
    "\n",
    "![](https://dn-anything-about-doc.qbox.me/document-uid214893labid3464timestamp1504834866908.png)"
   ]
  },
  {
   "cell_type": "code",
   "execution_count": 4,
   "metadata": {},
   "outputs": [
    {
     "name": "stdout",
     "output_type": "stream",
     "text": [
      "[103892  89779 101279  93193  94396 105549  93524 103689  91725  85040]\n"
     ]
    },
    {
     "data": {
      "image/png": "[encoded data removed]",
      "text/plain": [
       "<matplotlib.figure.Figure at 0x7fd216596a90>"
      ]
     },
     "metadata": {},
     "output_type": "display_data"
    }
   ],
   "source": [
    "data = pd.read_csv('test_file.csv', header=0)\n",
    "tp = data['Total Population']\n",
    "p = plt.boxplot(tp)\n",
    "plt  # 绘制箱形图\n",
    "outlier = p['fliers'][0].get_ydata()  # 将离群点标记并导出\n",
    "print(outlier)"
   ]
  },
  {
   "cell_type": "code",
   "execution_count": 5,
   "metadata": {},
   "outputs": [
    {
     "data": {
      "text/plain": [
       "<matplotlib.axes._subplots.AxesSubplot at 0x7fd2165968d0>"
      ]
     },
     "execution_count": 5,
     "metadata": {},
     "output_type": "execute_result"
    },
    {
     "data": {
      "image/png": "[encoded data removed]",
      "text/plain": [
       "<matplotlib.figure.Figure at 0x7fd21456d080>"
      ]
     },
     "metadata": {},
     "output_type": "display_data"
    }
   ],
   "source": [
    "# DataFrame可以很方便的将所有列数据的箱形图画在一张图中对比\n",
    "data = pd.read_csv('test_file.csv', header=0)\n",
    "data.boxplot()"
   ]
  },
  {
   "cell_type": "code",
   "execution_count": null,
   "metadata": {},
   "outputs": [],
   "source": []
  }
 ],
 "metadata": {
  "kernelspec": {
   "display_name": "Python 3",
   "language": "python",
   "name": "python3"
  },
  "language_info": {
   "codemirror_mode": {
    "name": "ipython",
    "version": 3
   },
   "file_extension": ".py",
   "mimetype": "text/x-python",
   "name": "python",
   "nbconvert_exporter": "python",
   "pygments_lexer": "ipython3",
   "version": "3.5.3"
  }
 },
 "nbformat": 4,
 "nbformat_minor": 2
}
